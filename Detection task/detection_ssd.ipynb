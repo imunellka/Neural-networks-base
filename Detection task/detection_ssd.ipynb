{
  "nbformat": 4,
  "nbformat_minor": 0,
  "metadata": {
    "colab": {
      "provenance": []
    },
    "accelerator": "GPU",
    "kernelspec": {
      "name": "python3",
      "display_name": "Python 3"
    }
  },
  "cells": [
    {
      "cell_type": "markdown",
      "metadata": {
        "id": "LNKDRrsQiM9_"
      },
      "source": [
        "# Detection SSD\n"
      ]
    },
    {
      "cell_type": "code",
      "metadata": {
        "id": "VascoI-6dB2c"
      },
      "source": [
        "# !pip3 install torch-tensorrt -f https://github.com/NVIDIA/Torch-TensorRT/releases"
      ],
      "execution_count": null,
      "outputs": []
    },
    {
      "cell_type": "code",
      "metadata": {
        "id": "8lOu1NkecvBS"
      },
      "source": [
        "import torch\n",
        "precision = 'fp32'\n",
        "ssd_model = torch.hub.load('NVIDIA/DeepLearningExamples:torchhub', 'nvidia_ssd', model_math=precision)"
      ],
      "execution_count": null,
      "outputs": []
    },
    {
      "cell_type": "code",
      "metadata": {
        "id": "mwXIolUccvBS"
      },
      "source": [
        "%%bash\n",
        "pip install numpy scipy scikit-image matplotlib"
      ],
      "execution_count": null,
      "outputs": []
    },
    {
      "cell_type": "code",
      "metadata": {
        "id": "HMTLeiern1xB"
      },
      "source": [
        "torch.hub.list('NVIDIA/DeepLearningExamples:torchhub')"
      ],
      "execution_count": null,
      "outputs": []
    },
    {
      "cell_type": "code",
      "metadata": {
        "id": "NCaFI1DdcvBT"
      },
      "source": [
        "utils = torch.hub.load('NVIDIA/DeepLearningExamples:torchhub', 'nvidia_ssd_processing_utils')"
      ],
      "execution_count": null,
      "outputs": []
    },
    {
      "cell_type": "code",
      "metadata": {
        "id": "xgcS6QJBf0lw"
      },
      "source": [
        "!cat /root/.cache/torch/hub/NVIDIA_DeepLearningExamples_torchhub/hubconf.py"
      ],
      "execution_count": null,
      "outputs": []
    },
    {
      "cell_type": "code",
      "metadata": {
        "id": "9mV4jTiDcvBT"
      },
      "source": [
        "ssd_model.to('cuda')\n",
        "ssd_model.eval()"
      ],
      "execution_count": null,
      "outputs": []
    },
    {
      "cell_type": "code",
      "metadata": {
        "id": "NSW3vWh6cvBT"
      },
      "source": [
        "uris = [\n",
        "    'http://images.cocodataset.org/val2017/000000397133.jpg',\n",
        "    'http://images.cocodataset.org/val2017/000000037777.jpg',\n",
        "    'http://images.cocodataset.org/val2017/000000252219.jpg',\n",
        "    'https://i.ibb.co/ZVqGsbJ/nvidia-image-300.jpg'\n",
        "]"
      ],
      "execution_count": null,
      "outputs": []
    },
    {
      "cell_type": "code",
      "metadata": {
        "id": "aOV1RlrpcvBT"
      },
      "source": [
        "inputs = [utils.prepare_input(uri) for uri in uris]\n",
        "tensor = utils.prepare_tensor(inputs, precision == 'fp16')"
      ],
      "execution_count": null,
      "outputs": []
    },
    {
      "cell_type": "code",
      "metadata": {
        "id": "FXSCjU1-cvBT"
      },
      "source": [
        "with torch.no_grad():\n",
        "    detections_batch = ssd_model(tensor)"
      ],
      "execution_count": null,
      "outputs": []
    },
    {
      "cell_type": "code",
      "metadata": {
        "id": "s4hvNjBQd-Ur"
      },
      "source": [
        "print(len(detections_batch))\n",
        "print(len(detections_batch[0]), detections_batch[0].shape)\n",
        "print(len(detections_batch[1]), detections_batch[1].shape)"
      ],
      "execution_count": null,
      "outputs": []
    },
    {
      "cell_type": "code",
      "metadata": {
        "id": "GNRfspJ-cvBT"
      },
      "source": [
        "results_per_input = utils.decode_results(detections_batch)\n",
        "print(len(results_per_input), len(results_per_input[0]),\n",
        "      results_per_input[1][0].shape, results_per_input[1][1].shape, results_per_input[1][2].shape)\n"
      ],
      "execution_count": null,
      "outputs": []
    },
    {
      "cell_type": "code",
      "metadata": {
        "id": "zx7VG6ukerI5"
      },
      "source": [
        "best_results_per_input = [utils.pick_best(results, 0.20) for results in results_per_input]\n",
        "print(len(best_results_per_input), len(best_results_per_input[0]),\n",
        "      best_results_per_input[1][0].shape, best_results_per_input[1][1].shape, best_results_per_input[1][2].shape)"
      ],
      "execution_count": null,
      "outputs": []
    },
    {
      "cell_type": "code",
      "metadata": {
        "id": "r_MgyPGhcvBT"
      },
      "source": [
        "classes_to_labels = utils.get_coco_object_dictionary()"
      ],
      "execution_count": null,
      "outputs": []
    },
    {
      "cell_type": "code",
      "metadata": {
        "id": "WMnyNTArcvBT"
      },
      "source": [
        "from matplotlib import pyplot as plt\n",
        "import matplotlib.patches as patches\n",
        "\n",
        "for image_idx in range(len(best_results_per_input)):\n",
        "    fig, ax = plt.subplots(1)\n",
        "    image = inputs[image_idx] / 2 + 0.5\n",
        "    ax.imshow(image)\n",
        "    bboxes, classes, confidences = best_results_per_input[image_idx]\n",
        "    for idx in range(len(bboxes)):\n",
        "        left, bot, right, top = bboxes[idx]\n",
        "        x, y, w, h = [val * 300 for val in [left, bot, right - left, top - bot]]\n",
        "        rect = patches.Rectangle((x, y), w, h, linewidth=1, edgecolor='r', facecolor='none')\n",
        "        ax.add_patch(rect)\n",
        "        ax.text(x, y, \"{} {:.0f}%\".format(classes_to_labels[classes[idx] - 1], confidences[idx]*100), bbox=dict(facecolor='white', alpha=0.5))\n",
        "plt.show()"
      ],
      "execution_count": null,
      "outputs": []
    },
    {
      "cell_type": "code",
      "metadata": {
        "id": "_nIS_Nc4pgeI"
      },
      "source": [
        "import time\n",
        "import numpy as np\n",
        "\n",
        "import torch.backends.cudnn as cudnn\n",
        "cudnn.benchmark = True\n",
        "\n",
        "# Helper function to benchmark the model\n",
        "def benchmark(model, input_shape=(1024, 1, 32, 32), dtype='fp32', nwarmup=50, nruns=1000):\n",
        "    input_data = torch.randn(input_shape)\n",
        "    input_data = input_data.to(\"cuda\")\n",
        "    if dtype=='fp16':\n",
        "        input_data = input_data.half()\n",
        "\n",
        "    print(\"Warm up ...\")\n",
        "    with torch.no_grad():\n",
        "        for _ in range(nwarmup):\n",
        "            features = model(input_data)\n",
        "    torch.cuda.synchronize()\n",
        "    print(\"Start timing ...\")\n",
        "    timings = []\n",
        "    with torch.no_grad():\n",
        "        for i in range(1, nruns+1):\n",
        "            start_time = time.time()\n",
        "            pred_loc, pred_label  = model(input_data)\n",
        "            torch.cuda.synchronize()\n",
        "            end_time = time.time()\n",
        "            timings.append(end_time - start_time)\n",
        "            if i%100==0:\n",
        "                print('Iteration %d/%d, avg batch time %.2f ms'%(i, nruns, np.mean(timings)*1000))\n",
        "\n",
        "    print(\"Input shape:\", input_data.size())\n",
        "    print(\"Output location prediction size:\", pred_loc.size())\n",
        "    print(\"Output label prediction size:\", pred_label.size())\n",
        "    print('Average batch time: %.2f ms'%(np.mean(timings)*1000))"
      ],
      "execution_count": null,
      "outputs": []
    },
    {
      "cell_type": "code",
      "metadata": {
        "id": "34YoEAozplB0"
      },
      "source": [
        "# Model benchmark without TRTorch/TensorRT\n",
        "model = ssd_model.eval().to(\"cuda\")\n",
        "benchmark(model, input_shape=(128, 3, 300, 300), nruns=1000)"
      ],
      "execution_count": null,
      "outputs": []
    }
  ]
}