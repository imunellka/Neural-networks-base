{
  "nbformat": 4,
  "nbformat_minor": 0,
  "metadata": {
    "accelerator": "GPU",
    "colab": {
      "provenance": []
    },
    "kernelspec": {
      "display_name": "Python 3",
      "name": "python3"
    }
  },
  "cells": [
    {
      "cell_type": "markdown",
      "metadata": {
        "id": "aGYwt_UjIrqp"
      },
      "source": [
        "# Mask_rcnn vs SSD"
      ]
    },
    {
      "cell_type": "code",
      "metadata": {
        "id": "Wi4LPmsR66sy"
      },
      "source": [
        "!nvcc -V\n",
        "!gcc --version"
      ],
      "execution_count": null,
      "outputs": []
    },
    {
      "cell_type": "code",
      "metadata": {
        "id": "vkZWQFxFKOcr"
      },
      "source": [
        "!nvidia-smi"
      ],
      "execution_count": null,
      "outputs": []
    },
    {
      "cell_type": "code",
      "metadata": {
        "id": "gkGnB9WyHSXB"
      },
      "source": [
        "!pip install -U torch==1.5.1+cu101 torchvision==0.6.1+cu101 -f https://download.pytorch.org/whl/torch_stable.html\n",
        "!pip install mmcv-full\n",
        "!rm -rf mmdetection\n",
        "!git clone https://github.com/open-mmlab/mmdetection.git\n",
        "%cd mmdetection\n",
        "!pip install -e .\n",
        "!pip install Pillow==7.0.0"
      ],
      "execution_count": null,
      "outputs": []
    },
    {
      "cell_type": "code",
      "metadata": {
        "id": "6hD0mmMixT0p"
      },
      "source": [
        "import torch, torchvision\n",
        "import mmdet\n",
        "from mmcv.ops import get_compiling_cuda_version, get_compiler_version\n",
        "print(torch.__version__, torch.cuda.is_available())\n",
        "print(mmdet.__version__)\n",
        "print(get_compiling_cuda_version())\n",
        "print(get_compiler_version())"
      ],
      "execution_count": null,
      "outputs": []
    },
    {
      "cell_type": "code",
      "metadata": {
        "id": "j4doHX4exvS1"
      },
      "source": [
        "!mkdir checkpoints\n",
        "# !wget -c https://open-mmlab.s3.ap-northeast-2.amazonaws.com/mmdetection/v2.0/mask_rcnn/mask_rcnn_r50_caffe_fpn_mstrain-poly_3x_coco/mask_rcnn_r50_caffe_fpn_mstrain-poly_3x_coco_bbox_mAP-0.408__segm_mAP-0.37_20200504_163245-42aa3d00.pth \\\n",
        "!wget -c https://download.openmmlab.com/mmdetection/v2.0/mask_rcnn/mask_rcnn_r50_caffe_fpn_mstrain-poly_3x_coco/mask_rcnn_r50_caffe_fpn_mstrain-poly_3x_coco_bbox_mAP-0.408__segm_mAP-0.37_20200504_163245-42aa3d00.pth \\\n",
        "      -O checkpoints/mask_rcnn_r50_caffe_fpn_mstrain-poly_3x_coco_bbox_mAP-0.408__segm_mAP-0.37_20200504_163245-42aa3d00.pth"
      ],
      "execution_count": null,
      "outputs": []
    },
    {
      "cell_type": "code",
      "metadata": {
        "id": "xRBWGibfV0l8"
      },
      "source": [
        "# !wget -c http://download.openmmlab.com/mmdetection/v2.0/ssd/ssd300_coco/ssd300_coco_20200307-a92d2092.pth \\\n",
        "!wget -c https://download.openmmlab.com/mmdetection/v2.0/ssd/ssd300_coco/ssd300_coco_20210803_015428-d231a06e.pth \\\n",
        "      -O checkpoints/ssd300_coco_20210803_015428-d231a06e.pth"
      ],
      "execution_count": null,
      "outputs": []
    },
    {
      "cell_type": "code",
      "metadata": {
        "id": "W2A3i_CAWFXv"
      },
      "source": [
        "!ls checkpoints"
      ],
      "execution_count": null,
      "outputs": []
    },
    {
      "cell_type": "code",
      "metadata": {
        "id": "8M5KUnX7Np3h"
      },
      "source": [
        "from mmdet.apis import inference_detector, init_detector, show_result_pyplot\n",
        "\n",
        "# Choose to use a config and initialize the detector\n",
        "config = 'configs/mask_rcnn/mask_rcnn_r50_caffe_fpn_mstrain-poly_3x_coco.py'\n",
        "checkpoint = 'checkpoints/mask_rcnn_r50_caffe_fpn_mstrain-poly_3x_coco_bbox_mAP-0.408__segm_mAP-0.37_20200504_163245-42aa3d00.pth'\n",
        "model = init_detector(config, checkpoint, device='cuda:0')"
      ],
      "execution_count": null,
      "outputs": []
    },
    {
      "cell_type": "code",
      "metadata": {
        "id": "Wi6DRpsQPEmV"
      },
      "source": [
        "img = 'demo/demo.jpg'\n",
        "result = inference_detector(model, img)"
      ],
      "execution_count": null,
      "outputs": []
    },
    {
      "cell_type": "code",
      "metadata": {
        "id": "UsJU5D-QPX8L"
      },
      "source": [
        "show_result_pyplot(model, img, result, score_thr=0.3)"
      ],
      "execution_count": null,
      "outputs": []
    },
    {
      "cell_type": "code",
      "metadata": {
        "id": "xPSUqcriV0jP"
      },
      "source": [
        "config = 'configs/ssd/ssd300_coco.py'\n",
        "checkpoint = 'checkpoints/ssd300_coco_20210803_015428-d231a06e.pth'\n",
        "model = init_detector(config, checkpoint, device='cuda:0')\n",
        "result = inference_detector(model, img)\n",
        "show_result_pyplot(model, img, result, score_thr=0.3)"
      ],
      "execution_count": null,
      "outputs": []
    },
    {
      "cell_type": "code",
      "metadata": {
        "id": "QoQePrzOaXUB"
      },
      "source": [
        "!ls -la checkpoints"
      ],
      "execution_count": null,
      "outputs": []
    },
    {
      "cell_type": "markdown",
      "source": [
        "# 2 stage"
      ],
      "metadata": {
        "id": "BiqP5BBN26Eq"
      }
    },
    {
      "cell_type": "code",
      "metadata": {
        "id": "rHnw5Q_nARXq"
      },
      "source": [
        "\n",
        "!wget https://download.openmmlab.com/mmdetection/data/kitti_tiny.zip\n",
        "!unzip kitti_tiny.zip > /dev/null"
      ],
      "execution_count": null,
      "outputs": []
    },
    {
      "cell_type": "code",
      "metadata": {
        "id": "Wuwxw1oZRtVZ"
      },
      "source": [
        "!apt-get -q install tree\n",
        "!tree kitti_tiny"
      ],
      "execution_count": null,
      "outputs": []
    },
    {
      "cell_type": "code",
      "metadata": {
        "id": "YnQQqzOWzE91"
      },
      "source": [
        "import mmcv\n",
        "import matplotlib.pyplot as plt\n",
        "\n",
        "img = mmcv.imread('kitti_tiny/training/image_2/000073.jpeg')\n",
        "plt.figure(figsize=(15, 10))\n",
        "plt.imshow(mmcv.bgr2rgb(img))\n",
        "plt.show()"
      ],
      "execution_count": null,
      "outputs": []
    },
    {
      "cell_type": "code",
      "metadata": {
        "id": "n7rwalnPd6e1"
      },
      "source": [
        "\n",
        "!cat kitti_tiny/training/label_2/000000.txt"
      ],
      "execution_count": null,
      "outputs": []
    },
    {
      "cell_type": "code",
      "metadata": {
        "id": "GdSaB2ad0EdX"
      },
      "source": [
        "import copy\n",
        "import os.path as osp\n",
        "\n",
        "import mmcv\n",
        "import numpy as np\n",
        "\n",
        "from mmdet.datasets.builder import DATASETS\n",
        "from mmdet.datasets.custom import CustomDataset\n",
        "\n",
        "@DATASETS.register_module()\n",
        "class KittiTinyDataset(CustomDataset):\n",
        "\n",
        "    CLASSES = ('Car', 'Pedestrian', 'Cyclist')\n",
        "\n",
        "    def load_annotations(self, ann_file):\n",
        "        cat2label = {k: i for i, k in enumerate(self.CLASSES)}\n",
        "        # load image list from file\n",
        "        image_list = mmcv.list_from_file(self.ann_file)\n",
        "\n",
        "        data_infos = []\n",
        "        # convert annotations to middle format\n",
        "        for image_id in image_list:\n",
        "            filename = f'{self.img_prefix}/{image_id}.jpeg'\n",
        "            image = mmcv.imread(filename)\n",
        "            height, width = image.shape[:2]\n",
        "\n",
        "            data_info = dict(filename=f'{image_id}.jpeg', width=width, height=height)\n",
        "\n",
        "            # load annotations\n",
        "            label_prefix = self.img_prefix.replace('image_2', 'label_2')\n",
        "            lines = mmcv.list_from_file(osp.join(label_prefix, f'{image_id}.txt'))\n",
        "\n",
        "            content = [line.strip().split(' ') for line in lines]\n",
        "            bbox_names = [x[0] for x in content]\n",
        "            bboxes = [[float(info) for info in x[4:8]] for x in content]\n",
        "\n",
        "            gt_bboxes = []\n",
        "            gt_labels = []\n",
        "            gt_bboxes_ignore = []\n",
        "            gt_labels_ignore = []\n",
        "\n",
        "            # filter 'DontCare'\n",
        "            for bbox_name, bbox in zip(bbox_names, bboxes):\n",
        "                if bbox_name in cat2label:\n",
        "                    gt_labels.append(cat2label[bbox_name])\n",
        "                    gt_bboxes.append(bbox)\n",
        "                else:\n",
        "                    gt_labels_ignore.append(-1)\n",
        "                    gt_bboxes_ignore.append(bbox)\n",
        "\n",
        "            data_anno = dict(\n",
        "                bboxes=np.array(gt_bboxes, dtype=np.float32).reshape(-1, 4),\n",
        "                labels=np.array(gt_labels, dtype=np.long),\n",
        "                bboxes_ignore=np.array(gt_bboxes_ignore,\n",
        "                                       dtype=np.float32).reshape(-1, 4),\n",
        "                labels_ignore=np.array(gt_labels_ignore, dtype=np.long))\n",
        "\n",
        "            data_info.update(ann=data_anno)\n",
        "            data_infos.append(data_info)\n",
        "\n",
        "        return data_infos"
      ],
      "execution_count": null,
      "outputs": []
    },
    {
      "cell_type": "markdown",
      "metadata": {
        "id": "PwqJOpBe-bMj"
      },
      "source": [
        "we finetune a detector using a pre-trained detector."
      ]
    },
    {
      "cell_type": "code",
      "metadata": {
        "id": "hamZrlnH-YDD"
      },
      "source": [
        "from mmcv import Config\n",
        "\n",
        "model_type = \"ssd\"\n",
        "\n",
        "if model_type == \"ssd\":\n",
        "  cfg = Config.fromfile('./configs/ssd/ssd300_coco.py')\n",
        "elif model_type == \"mask_rcnn\":\n",
        "  cfg = Config.fromfile('./configs/faster_rcnn/faster_rcnn_r50_caffe_fpn_mstrain_1x_coco.py')"
      ],
      "execution_count": null,
      "outputs": []
    },
    {
      "cell_type": "code",
      "metadata": {
        "id": "RclcNheg1QT3"
      },
      "source": [
        "cfg[\"data\"]"
      ],
      "execution_count": null,
      "outputs": []
    },
    {
      "cell_type": "code",
      "metadata": {
        "id": "pUbwD8uV0PR8"
      },
      "source": [
        "from mmdet.apis import set_random_seed\n",
        "\n",
        "# Modify dataset type and path\n",
        "cfg.dataset_type = 'KittiTinyDataset'\n",
        "cfg.data_root = 'kitti_tiny/'\n",
        "\n",
        "cfg.data.test.type = 'KittiTinyDataset'\n",
        "cfg.data.test.data_root = 'kitti_tiny/'\n",
        "cfg.data.test.ann_file = 'train.txt'\n",
        "cfg.data.test.img_prefix = 'training/image_2'\n",
        "\n",
        "if model_type == \"ssd\":\n",
        "  cfg.data.train.dataset.type = 'KittiTinyDataset'\n",
        "  cfg.data.train.dataset.data_root = 'kitti_tiny/'\n",
        "  cfg.data.train.dataset.ann_file = 'train.txt'\n",
        "  cfg.data.train.dataset.img_prefix = 'training/image_2'\n",
        "elif model_type == \"mask_rcnn\":\n",
        "  cfg.data.train.type = 'KittiTinyDataset'\n",
        "  cfg.data.train.data_root = 'kitti_tiny/'\n",
        "  cfg.data.train.ann_file = 'train.txt'\n",
        "  cfg.data.train.img_prefix = 'training/image_2'\n",
        "\n",
        "cfg.data.val.type = 'KittiTinyDataset'\n",
        "cfg.data.val.data_root = 'kitti_tiny/'\n",
        "cfg.data.val.ann_file = 'val.txt'\n",
        "cfg.data.val.img_prefix = 'training/image_2'\n",
        "\n",
        "if model_type == \"ssd\":\n",
        "  cfg.model.bbox_head.num_classes = 3\n",
        "  cfg.load_from = 'checkpoints/ssd300_coco_20210803_015428-d231a06e.pth'\n",
        "elif model_type == \"mask_rcnn\":\n",
        "  cfg.model.roi_head.bbox_head.num_classes = 3\n",
        "  cfg.load_from = 'checkpoints/mask_rcnn_r50_caffe_fpn_mstrain-poly_3x_coco_bbox_mAP-0.408__segm_mAP-0.37_20200504_163245-42aa3d00.pth'\n",
        "\n",
        "# Set up working dir to save files and logs.\n",
        "cfg.work_dir = './tutorial_exps'\n",
        "\n",
        "# The original learning rate (LR) is set for 8-GPU training. We divide it by 8 since we only use one GPU.\n",
        "cfg.optimizer.lr = 0.02 / 8.  # 3e-3\n",
        "# cfg.lr_config.warmup = None\n",
        "cfg.lr_config.policy = 'step'\n",
        "cfg.lr_config.warmup = 'linear'\n",
        "cfg.lr_config.warmup_ratio = 1.0 / 1e10\n",
        "\n",
        "cfg.log_config.interval = 10\n",
        "\n",
        "cfg.evaluation.metric = 'mAP'\n",
        "# We can set the evaluation interval to reduce the evaluation times\n",
        "cfg.evaluation.interval = 12\n",
        "# We can set the checkpoint saving interval to reduce the storage cost\n",
        "cfg.checkpoint_config.interval = 12\n",
        "\n",
        "cfg.seed = 0\n",
        "set_random_seed(0, deterministic=False)\n",
        "cfg.gpu_ids = range(1)\n",
        "\n",
        "print(f'Config:\\n{cfg.pretty_text}')\n"
      ],
      "execution_count": null,
      "outputs": []
    },
    {
      "cell_type": "code",
      "metadata": {
        "id": "7WBWHu010PN3"
      },
      "source": [
        "from mmdet.datasets import build_dataset\n",
        "from mmdet.models import build_detector\n",
        "from mmdet.apis import train_detector\n",
        "\n",
        "\n",
        "datasets = [build_dataset(cfg.data.train)]\n",
        "\n",
        "model = build_detector( cfg.model, train_cfg=cfg.get('train_cfg'), test_cfg=cfg.get('test_cfg'))\n",
        "model.CLASSES = datasets[0].CLASSES\n",
        "\n",
        "mmcv.mkdir_or_exist(osp.abspath(cfg.work_dir))\n",
        "train_detector(model, datasets, cfg, distributed=False, validate=True)"
      ],
      "execution_count": null,
      "outputs": []
    },
    {
      "cell_type": "code",
      "metadata": {
        "id": "_MuZurfGLq0p"
      },
      "source": [
        "img = mmcv.imread('kitti_tiny/training/image_2/000068.jpeg')\n",
        "\n",
        "model.cfg = cfg\n",
        "result = inference_detector(model, img)\n",
        "show_result_pyplot(model, img, result)"
      ],
      "execution_count": null,
      "outputs": []
    },
    {
      "cell_type": "code",
      "metadata": {
        "id": "gHGSyNFwtb3X"
      },
      "source": [
        "!wget <your image uri>"
      ],
      "execution_count": null,
      "outputs": []
    },
    {
      "cell_type": "code",
      "metadata": {
        "id": "YfFvTvHgtgTf"
      },
      "source": [
        "!ls"
      ],
      "execution_count": null,
      "outputs": []
    },
    {
      "cell_type": "code",
      "metadata": {
        "id": "cgSKHJobQpt6"
      },
      "source": [
        "img = mmcv.imread('kitti_tiny/training/image_2/000060.jpeg')\n",
        "\n",
        "model.cfg = cfg\n",
        "result = inference_detector(model, img)\n",
        "show_result_pyplot(model, img, result)"
      ],
      "execution_count": null,
      "outputs": []
    }
  ]
}